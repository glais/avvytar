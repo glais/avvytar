{
 "cells": [
  {
   "cell_type": "code",
   "execution_count": 68,
   "metadata": {},
   "outputs": [],
   "source": [
    "from PIL import Image, ImageDraw, ImageFont"
   ]
  },
  {
   "cell_type": "code",
   "execution_count": 368,
   "metadata": {},
   "outputs": [],
   "source": [
    "avatar = Image.new('RGB', (640,640), color='#555555')\n",
    "draw = ImageDraw.Draw(avatar)\n",
    "image_w, image_h = avatar.size\n",
    "\n",
    "bold = 'resources/Montserrat-Bold.ttf'\n",
    "semibold = 'resources/Montserrat-SemiBold.ttf'\n",
    "fontsize = 92\n",
    "margin = image_w / 10\n",
    "spacer = image_w / 100\n",
    "\n",
    "# Write .avax font\n",
    "font = ImageFont.truetype(semibold, 46)\n",
    "tld = \".avax\"\n",
    "\n",
    "tld_w, tld_h = draw.textsize(tld, font)\n",
    "loc_x = image_w - tld_w - margin\n",
    "loc_y = image_h - tld_h - margin\n",
    "\n",
    "# Shadow\n",
    "draw.text((loc_x + 2, loc_y + 2), tld, '#000000', font=font)\n",
    "draw.text((loc_x, loc_y), tld, '#cccccc', font=font)\n"
   ]
  },
  {
   "cell_type": "code",
   "execution_count": 369,
   "metadata": {},
   "outputs": [],
   "source": [
    "domain = \"dao\"\n",
    "fontsize = 46\n",
    "writable_w = image_w - (margin * 2)\n",
    "lines = []\n",
    "\n",
    "font = ImageFont.truetype(bold, fontsize)\n",
    "domain_w, domain_h = draw.textsize(domain, font)\n",
    "\n",
    "if domain_w < writable_w:\n",
    "    while domain_w < writable_w and fontsize < 128:\n",
    "        fontsize = fontsize + 1\n",
    "        font = ImageFont.truetype(bold, fontsize)\n",
    "        domain_w, domain_h = draw.textsize(domain, font)\n",
    "    if domain_w > writable_w:\n",
    "        fontsize = fontsize - 1\n",
    "        font = ImageFont.truetype(bold, fontsize)\n",
    "        domain_w, domain_h = draw.textsize(domain, font)\n",
    "    else: \n",
    "        font = ImageFont.truetype(bold, fontsize)\n",
    "        domain_w, domain_h = draw.textsize(domain, font)\n",
    "\n",
    "else:\n",
    "    domainstring = domain\n",
    "    remaining = len(domainstring)\n",
    "\n",
    "    while remaining > 0:\n",
    "\n",
    "        if remaining <= 10:\n",
    "            linelength = remaining\n",
    "            line = domainstring[0:len(domainstring)]\n",
    "            line_w, line_h = draw.textsize(line, font)\n",
    "            remaining = 0\n",
    "        \n",
    "        else:\n",
    "            linelength = 10\n",
    "            line = domainstring[0:linelength]\n",
    "            line_w, line_h = draw.textsize(line, font)\n",
    "\n",
    "            while line_w < writable_w and remaining > 0:\n",
    "                linelength = linelength + 1\n",
    "                line = domainstring[0:linelength]\n",
    "                remaining = len(domainstring) - len(line)\n",
    "                line_w, line_h = draw.textsize(line, font)\n",
    "\n",
    "        if line_w > writable_w:\n",
    "            lines.append(domainstring[0:linelength-1])\n",
    "            domainstring = domainstring[linelength-1:len(domainstring)]\n",
    "            remaining = remaining + 1\n",
    "        else: \n",
    "            lines.append(domainstring[0:linelength])\n",
    "            domainstring = domainstring[linelength:len(domainstring)]\n",
    "        \n",
    "if lines:\n",
    "    lineheight = fontsize * 1.1\n",
    "    numlines = len(lines)\n",
    "    combined_h = lineheight + spacer + tld_h\n",
    "    lineref = list(range(len(lines)-1, -1, -1))\n",
    "    for num in range(0, numlines):\n",
    "        multiple = num + 1\n",
    "        line = lines[lineref[num]]\n",
    "        line_w, line_h = draw.textsize(line, font)\n",
    "        line_h = lineheight + spacer\n",
    "        loc_x = image_w - line_w - margin\n",
    "        loc_y = image_h - (line_h * multiple) - margin - tld_h\n",
    "        draw.text((loc_x, loc_y), line, '#ffffff', font=font)\n",
    "\n",
    "else:\n",
    "\n",
    "    lineheight = fontsize * 1.1\n",
    "    loc_x = image_w - domain_w - margin\n",
    "    loc_y = image_h - lineheight - margin - spacer - tld_h\n",
    "\n",
    "    draw.text((loc_x, loc_y), domain, '#ffffff', font=font)\n",
    "\n"
   ]
  },
  {
   "cell_type": "code",
   "execution_count": 370,
   "metadata": {},
   "outputs": [
    {
     "data": {
      "image/png": "[encoded data removed]",
      "text/plain": [
       "<PIL.Image.Image image mode=RGB size=640x640 at 0x2634190E670>"
      ]
     },
     "execution_count": 370,
     "metadata": {},
     "output_type": "execute_result"
    }
   ],
   "source": [
    "avatar"
   ]
  },
  {
   "cell_type": "code",
   "execution_count": null,
   "metadata": {},
   "outputs": [],
   "source": []
  }
 ],
 "metadata": {
  "interpreter": {
   "hash": "5d6c0e857d5a2090bea7fe3c4151e9bfaebdc696febf53efe9373febc2a3987f"
  },
  "kernelspec": {
   "display_name": "Python 3.9.10 64-bit",
   "language": "python",
   "name": "python3"
  },
  "language_info": {
   "codemirror_mode": {
    "name": "ipython",
    "version": 3
   },
   "file_extension": ".py",
   "mimetype": "text/x-python",
   "name": "python",
   "nbconvert_exporter": "python",
   "pygments_lexer": "ipython3",
   "version": "3.9.10"
  },
  "orig_nbformat": 4
 },
 "nbformat": 4,
 "nbformat_minor": 2
}
